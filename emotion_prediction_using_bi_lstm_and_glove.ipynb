{
  "cells": [
    {
      "cell_type": "markdown",
      "metadata": {
        "id": "RPKMEPzuygdK"
      },
      "source": [
        "# Text Emotion Labeler\n",
        "## Bryce Hinkley\n",
        "### UTSA Computer Science - Large Scale Database Management\n",
        "### Spring 2023\n",
        "\n",
        "This script is for creating a neural network that can be used to input text to assign one of 7 labels"
      ],
      "id": "RPKMEPzuygdK"
    },
    {
      "cell_type": "markdown",
      "metadata": {
        "id": "delayed-validation"
      },
      "source": [
        "# Import libraries"
      ],
      "id": "delayed-validation"
    },
    {
      "cell_type": "code",
      "execution_count": 50,
      "metadata": {
        "id": "polyphonic-address"
      },
      "outputs": [],
      "source": [
        "import numpy as np\n",
        "import pandas as pd \n",
        "import tensorflow as tf\n",
        "import nltk\n",
        "import seaborn as sns\n",
        "import re\n",
        "import matplotlib.pyplot as plt\n",
        "import concurrent.futures\n",
        "from IPython.display import clear_output\n",
        "import os\n",
        "import pickle\n",
        "\n",
        "\n",
        "from tensorflow.keras.layers import Embedding, Dense, LSTM, Dropout, Bidirectional\n",
        "from tensorflow.keras.preprocessing.sequence import pad_sequences\n",
        "from tensorflow.keras.models import Sequential\n",
        "from tensorflow.keras.preprocessing.text import one_hot, Tokenizer\n",
        "from tensorflow.keras.callbacks import ModelCheckpoint\n",
        "from nltk.corpus import stopwords\n",
        "from nltk.stem.porter import PorterStemmer\n",
        "from sklearn import preprocessing\n",
        "from sklearn.model_selection import train_test_split\n",
        "from sklearn.metrics import accuracy_score, classification_report, confusion_matrix"
      ],
      "id": "polyphonic-address"
    },
    {
      "cell_type": "markdown",
      "metadata": {
        "id": "BE38KEIAodLn"
      },
      "source": [
        "This is completely optional. I personally use it because I don't want to mount the Google Drive repeatedly and have the box pop up, plus it makes it easy to share the file with other people. So instead of needing the files on your Drive you should be able to download them that are publicly available on my Drive. Feel free to download onto a local machine them if you need them though."
      ],
      "id": "BE38KEIAodLn"
    },
    {
      "cell_type": "code",
      "execution_count": 2,
      "metadata": {
        "colab": {
          "base_uri": "https://localhost:8080/"
        },
        "id": "GpY0SYCg79Uw",
        "outputId": "49749fab-b505-41b0-e1b4-a40e31ea0a51"
      },
      "outputs": [
        {
          "output_type": "stream",
          "name": "stdout",
          "text": [
            "/usr/local/lib/python3.9/dist-packages/gdown/cli.py:121: FutureWarning: Option `--id` was deprecated in version 4.3.1 and will be removed in 5.0. You don't need to pass it anymore to use a file ID.\n",
            "  warnings.warn(\n",
            "Downloading...\n",
            "From: https://drive.google.com/uc?id=1udpdz9IyUAOgPbLzDmRnf17qI87tPpmd\n",
            "To: /content/emotion_final.csv\n",
            "100% 2.26M/2.26M [00:00<00:00, 125MB/s]\n",
            "/usr/local/lib/python3.9/dist-packages/gdown/cli.py:121: FutureWarning: Option `--id` was deprecated in version 4.3.1 and will be removed in 5.0. You don't need to pass it anymore to use a file ID.\n",
            "  warnings.warn(\n",
            "Downloading...\n",
            "From: https://drive.google.com/uc?id=1goJShSS2bXxm6ExIKQXGLqIabUTzcSaA\n",
            "To: /content/glove.6B.100d.txt\n",
            "100% 347M/347M [00:07<00:00, 48.7MB/s]\n"
          ]
        }
      ],
      "source": [
        "!gdown --id 1udpdz9IyUAOgPbLzDmRnf17qI87tPpmd\n",
        "!gdown --id 1goJShSS2bXxm6ExIKQXGLqIabUTzcSaA\n",
        "# # https://drive.google.com/file/d/1goJShSS2bXxm6ExIKQXGLqIabUTzcSaA/view?usp=sharing"
      ],
      "id": "GpY0SYCg79Uw"
    },
    {
      "cell_type": "markdown",
      "metadata": {
        "id": "involved-satisfaction"
      },
      "source": [
        "# Read and clean data"
      ],
      "id": "involved-satisfaction"
    },
    {
      "cell_type": "code",
      "execution_count": 3,
      "metadata": {
        "colab": {
          "base_uri": "https://localhost:8080/",
          "height": 206
        },
        "id": "intensive-developer",
        "outputId": "030761fa-c512-4b8d-b110-a74e4ed6f8a2"
      },
      "outputs": [
        {
          "output_type": "execute_result",
          "data": {
            "text/plain": [
              "                                                Text  Emotion\n",
              "0                            i didnt feel humiliated  sadness\n",
              "1  i can go from feeling so hopeless to so damned...  sadness\n",
              "2   im grabbing a minute to post i feel greedy wrong    anger\n",
              "3  i am ever feeling nostalgic about the fireplac...     love\n",
              "4                               i am feeling grouchy    anger"
            ],
            "text/html": [
              "\n",
              "  <div id=\"df-f0d748e8-dc84-43a0-b422-17f4768b3b9f\">\n",
              "    <div class=\"colab-df-container\">\n",
              "      <div>\n",
              "<style scoped>\n",
              "    .dataframe tbody tr th:only-of-type {\n",
              "        vertical-align: middle;\n",
              "    }\n",
              "\n",
              "    .dataframe tbody tr th {\n",
              "        vertical-align: top;\n",
              "    }\n",
              "\n",
              "    .dataframe thead th {\n",
              "        text-align: right;\n",
              "    }\n",
              "</style>\n",
              "<table border=\"1\" class=\"dataframe\">\n",
              "  <thead>\n",
              "    <tr style=\"text-align: right;\">\n",
              "      <th></th>\n",
              "      <th>Text</th>\n",
              "      <th>Emotion</th>\n",
              "    </tr>\n",
              "  </thead>\n",
              "  <tbody>\n",
              "    <tr>\n",
              "      <th>0</th>\n",
              "      <td>i didnt feel humiliated</td>\n",
              "      <td>sadness</td>\n",
              "    </tr>\n",
              "    <tr>\n",
              "      <th>1</th>\n",
              "      <td>i can go from feeling so hopeless to so damned...</td>\n",
              "      <td>sadness</td>\n",
              "    </tr>\n",
              "    <tr>\n",
              "      <th>2</th>\n",
              "      <td>im grabbing a minute to post i feel greedy wrong</td>\n",
              "      <td>anger</td>\n",
              "    </tr>\n",
              "    <tr>\n",
              "      <th>3</th>\n",
              "      <td>i am ever feeling nostalgic about the fireplac...</td>\n",
              "      <td>love</td>\n",
              "    </tr>\n",
              "    <tr>\n",
              "      <th>4</th>\n",
              "      <td>i am feeling grouchy</td>\n",
              "      <td>anger</td>\n",
              "    </tr>\n",
              "  </tbody>\n",
              "</table>\n",
              "</div>\n",
              "      <button class=\"colab-df-convert\" onclick=\"convertToInteractive('df-f0d748e8-dc84-43a0-b422-17f4768b3b9f')\"\n",
              "              title=\"Convert this dataframe to an interactive table.\"\n",
              "              style=\"display:none;\">\n",
              "        \n",
              "  <svg xmlns=\"http://www.w3.org/2000/svg\" height=\"24px\"viewBox=\"0 0 24 24\"\n",
              "       width=\"24px\">\n",
              "    <path d=\"M0 0h24v24H0V0z\" fill=\"none\"/>\n",
              "    <path d=\"M18.56 5.44l.94 2.06.94-2.06 2.06-.94-2.06-.94-.94-2.06-.94 2.06-2.06.94zm-11 1L8.5 8.5l.94-2.06 2.06-.94-2.06-.94L8.5 2.5l-.94 2.06-2.06.94zm10 10l.94 2.06.94-2.06 2.06-.94-2.06-.94-.94-2.06-.94 2.06-2.06.94z\"/><path d=\"M17.41 7.96l-1.37-1.37c-.4-.4-.92-.59-1.43-.59-.52 0-1.04.2-1.43.59L10.3 9.45l-7.72 7.72c-.78.78-.78 2.05 0 2.83L4 21.41c.39.39.9.59 1.41.59.51 0 1.02-.2 1.41-.59l7.78-7.78 2.81-2.81c.8-.78.8-2.07 0-2.86zM5.41 20L4 18.59l7.72-7.72 1.47 1.35L5.41 20z\"/>\n",
              "  </svg>\n",
              "      </button>\n",
              "      \n",
              "  <style>\n",
              "    .colab-df-container {\n",
              "      display:flex;\n",
              "      flex-wrap:wrap;\n",
              "      gap: 12px;\n",
              "    }\n",
              "\n",
              "    .colab-df-convert {\n",
              "      background-color: #E8F0FE;\n",
              "      border: none;\n",
              "      border-radius: 50%;\n",
              "      cursor: pointer;\n",
              "      display: none;\n",
              "      fill: #1967D2;\n",
              "      height: 32px;\n",
              "      padding: 0 0 0 0;\n",
              "      width: 32px;\n",
              "    }\n",
              "\n",
              "    .colab-df-convert:hover {\n",
              "      background-color: #E2EBFA;\n",
              "      box-shadow: 0px 1px 2px rgba(60, 64, 67, 0.3), 0px 1px 3px 1px rgba(60, 64, 67, 0.15);\n",
              "      fill: #174EA6;\n",
              "    }\n",
              "\n",
              "    [theme=dark] .colab-df-convert {\n",
              "      background-color: #3B4455;\n",
              "      fill: #D2E3FC;\n",
              "    }\n",
              "\n",
              "    [theme=dark] .colab-df-convert:hover {\n",
              "      background-color: #434B5C;\n",
              "      box-shadow: 0px 1px 3px 1px rgba(0, 0, 0, 0.15);\n",
              "      filter: drop-shadow(0px 1px 2px rgba(0, 0, 0, 0.3));\n",
              "      fill: #FFFFFF;\n",
              "    }\n",
              "  </style>\n",
              "\n",
              "      <script>\n",
              "        const buttonEl =\n",
              "          document.querySelector('#df-f0d748e8-dc84-43a0-b422-17f4768b3b9f button.colab-df-convert');\n",
              "        buttonEl.style.display =\n",
              "          google.colab.kernel.accessAllowed ? 'block' : 'none';\n",
              "\n",
              "        async function convertToInteractive(key) {\n",
              "          const element = document.querySelector('#df-f0d748e8-dc84-43a0-b422-17f4768b3b9f');\n",
              "          const dataTable =\n",
              "            await google.colab.kernel.invokeFunction('convertToInteractive',\n",
              "                                                     [key], {});\n",
              "          if (!dataTable) return;\n",
              "\n",
              "          const docLinkHtml = 'Like what you see? Visit the ' +\n",
              "            '<a target=\"_blank\" href=https://colab.research.google.com/notebooks/data_table.ipynb>data table notebook</a>'\n",
              "            + ' to learn more about interactive tables.';\n",
              "          element.innerHTML = '';\n",
              "          dataTable['output_type'] = 'display_data';\n",
              "          await google.colab.output.renderOutput(dataTable, element);\n",
              "          const docLink = document.createElement('div');\n",
              "          docLink.innerHTML = docLinkHtml;\n",
              "          element.appendChild(docLink);\n",
              "        }\n",
              "      </script>\n",
              "    </div>\n",
              "  </div>\n",
              "  "
            ]
          },
          "metadata": {},
          "execution_count": 3
        }
      ],
      "source": [
        "df=pd.read_csv('emotion_final.csv') #Text data\n",
        "EMBEDDING_FILE= f'glove.6B.100d.txt' #GloVe file path\n",
        "df.head()"
      ],
      "id": "intensive-developer"
    },
    {
      "cell_type": "code",
      "execution_count": 4,
      "metadata": {
        "colab": {
          "base_uri": "https://localhost:8080/",
          "height": 466
        },
        "id": "agreed-pathology",
        "outputId": "7e689508-09c2-4ea3-ede2-2854e5327cac"
      },
      "outputs": [
        {
          "output_type": "execute_result",
          "data": {
            "text/plain": [
              "<Axes: xlabel='Emotion', ylabel='count'>"
            ]
          },
          "metadata": {},
          "execution_count": 4
        },
        {
          "output_type": "display_data",
          "data": {
            "text/plain": [
              "<Figure size 640x480 with 1 Axes>"
            ],
            "image/png": "[encoded data removed]"
          },
          "metadata": {}
        }
      ],
      "source": [
        "#Target Classes\n",
        "sns.countplot(x = \"Emotion\", data = df)"
      ],
      "id": "agreed-pathology"
    },
    {
      "cell_type": "code",
      "execution_count": 5,
      "metadata": {
        "id": "attached-disco"
      },
      "outputs": [],
      "source": [
        "df=df.dropna() #Drop columns with NA values\n",
        "X=df.drop('Emotion',axis=1) #Input\n",
        "y=df['Emotion'] #Output"
      ],
      "id": "attached-disco"
    },
    {
      "cell_type": "code",
      "execution_count": 6,
      "metadata": {
        "id": "martial-affairs"
      },
      "outputs": [],
      "source": [
        "messages=X.copy()\n",
        "messages.reset_index(inplace=True) #Drop NA may cause inconsistency in index"
      ],
      "id": "martial-affairs"
    },
    {
      "cell_type": "code",
      "execution_count": 7,
      "metadata": {
        "colab": {
          "base_uri": "https://localhost:8080/"
        },
        "id": "comparative-province",
        "outputId": "b710774c-b346-4cc7-dc06-f25fe9c84e99"
      },
      "outputs": [
        {
          "output_type": "stream",
          "name": "stderr",
          "text": [
            "[nltk_data] Downloading package stopwords to /root/nltk_data...\n",
            "[nltk_data]   Unzipping corpora/stopwords.zip.\n"
          ]
        }
      ],
      "source": [
        "nltk.download('stopwords')\n",
        "ps = PorterStemmer()\n",
        "corpus = []\n",
        "for i in range(0, len(messages)):\n",
        "    review = re.sub('[^a-zA-Z]', ' ', messages['Text'][i]) #Remove Special Characters\n",
        "    review = review.lower() #Lower case \n",
        "    review = review.split()\n",
        "    review = [ps.stem(word) for word in review if not word in stopwords.words('english')] #Remove stopwords\n",
        "    review = ' '.join(review)\n",
        "    corpus.append(review)"
      ],
      "id": "comparative-province"
    },
    {
      "cell_type": "code",
      "execution_count": 8,
      "metadata": {
        "colab": {
          "base_uri": "https://localhost:8080/"
        },
        "id": "ancient-magic",
        "outputId": "30d41ee1-7645-4967-9546-ea1d0cdbf72b"
      },
      "outputs": [
        {
          "output_type": "execute_result",
          "data": {
            "text/plain": [
              "['didnt feel humili',\n",
              " 'go feel hopeless damn hope around someon care awak',\n",
              " 'im grab minut post feel greedi wrong',\n",
              " 'ever feel nostalg fireplac know still properti',\n",
              " 'feel grouchi',\n",
              " 'ive feel littl burden late wasnt sure',\n",
              " 'ive take milligram time recommend amount ive fallen asleep lot faster also feel like funni',\n",
              " 'feel confus life teenag jade year old man',\n",
              " 'petrona year feel petrona perform well made huge profit',\n",
              " 'feel romant']"
            ]
          },
          "metadata": {},
          "execution_count": 8
        }
      ],
      "source": [
        "corpus[:10]"
      ],
      "id": "ancient-magic"
    },
    {
      "cell_type": "markdown",
      "metadata": {
        "id": "armed-inquiry"
      },
      "source": [
        "# Embedding layer using GloVe "
      ],
      "id": "armed-inquiry"
    },
    {
      "cell_type": "code",
      "execution_count": 9,
      "metadata": {
        "colab": {
          "base_uri": "https://localhost:8080/"
        },
        "id": "european-convention",
        "outputId": "89f41991-c1c4-43c0-9734-723c3002b536"
      },
      "outputs": [
        {
          "output_type": "stream",
          "name": "stderr",
          "text": [
            "/usr/local/lib/python3.9/dist-packages/IPython/core/interactiveshell.py:3473: FutureWarning: arrays to stack must be passed as a \"sequence\" type such as list or tuple. Support for non-sequence iterables such as generators is deprecated as of NumPy 1.16 and will raise an error in the future.\n",
            "  if (await self.run_code(code, result,  async_=asy)):\n"
          ]
        },
        {
          "output_type": "stream",
          "name": "stdout",
          "text": [
            "0.004451992 0.4081574\n"
          ]
        }
      ],
      "source": [
        "#Creating the dictionary with word as key and pretrained-value array as value\n",
        "def get_coefs(word,*arr): return word, np.asarray(arr, dtype='float32')\n",
        "embeddings_index = dict(get_coefs(*o.strip().split()) for o in open(EMBEDDING_FILE))\n",
        "\n",
        "#Calculate mean and std for the pretrained weights\n",
        "all_embs = np.stack(embeddings_index.values())\n",
        "emb_mean,emb_std = all_embs.mean(), all_embs.std()\n",
        "print(emb_mean,emb_std)"
      ],
      "id": "european-convention"
    },
    {
      "cell_type": "code",
      "execution_count": 15,
      "metadata": {
        "id": "controversial-daily"
      },
      "outputs": [],
      "source": [
        "voc_size=10000 # Vocabulary size\n",
        "embed_size=100 #word vector size\n",
        "\n",
        "tokenizer = Tokenizer(num_words=voc_size)\n",
        "tokenizer.fit_on_texts(list(corpus))\n",
        "word_index = tokenizer.word_index #Total words in the corpus\n",
        "nb_words = min(voc_size, len(word_index))\n",
        "\n",
        "#Initialize weight matrix for embedding layer\n",
        "embedding_matrix = np.random.normal(emb_mean, emb_std, (nb_words, embed_size)) \n",
        "\n",
        "for word, i in word_index.items():\n",
        "    if i >= voc_size: continue #Skip the words if vocab size is reached\n",
        "    embedding_vector = embeddings_index.get(word) #Extract the pretrained values from GloVe\n",
        "    if embedding_vector is not None: embedding_matrix[i] = embedding_vector\n",
        "np.save('embedding_matrix.npy', embedding_matrix)\n"
      ],
      "id": "controversial-daily"
    },
    {
      "cell_type": "code",
      "execution_count": 11,
      "metadata": {
        "colab": {
          "base_uri": "https://localhost:8080/"
        },
        "id": "juvenile-breeding",
        "outputId": "2e2f66ed-1066-4e6e-9baf-d54f90c4df77"
      },
      "outputs": [
        {
          "output_type": "execute_result",
          "data": {
            "text/plain": [
              "10000"
            ]
          },
          "metadata": {},
          "execution_count": 11
        }
      ],
      "source": [
        "#Contains the pretrained GloVe weights for the words\n",
        "len(embedding_matrix)"
      ],
      "id": "juvenile-breeding"
    },
    {
      "cell_type": "markdown",
      "metadata": {
        "id": "coordinated-female"
      },
      "source": [
        "# Process Input-Output data"
      ],
      "id": "coordinated-female"
    },
    {
      "cell_type": "code",
      "execution_count": 47,
      "metadata": {
        "colab": {
          "base_uri": "https://localhost:8080/"
        },
        "id": "universal-ordinary",
        "outputId": "9df07d1e-a6a7-4145-bc3e-fde9b259d101"
      },
      "outputs": [
        {
          "output_type": "stream",
          "name": "stdout",
          "text": [
            "[[   0    0    0 ... 7719 9965 1920]\n",
            " [   0    0    0 ... 1648 2701 2248]\n",
            " [   0    0    0 ... 9965 5599   29]\n",
            " ...\n",
            " [   0    0    0 ...  256 1491 1556]\n",
            " [   0    0    0 ... 1442 1556 5371]\n",
            " [   0    0    0 ...    0 1556 9464]]\n"
          ]
        }
      ],
      "source": [
        "#One hot representation for input\n",
        "onehot_repr=[one_hot(words,voc_size)for words in corpus]\n",
        "with open('onehot_repr.pkl', 'wb') as f:\n",
        "    pickle.dump(onehot_repr, f)\n",
        "#Finding max words\n",
        "l = 0\n",
        "for x in corpus:\n",
        "    l = max(l,len(x.split(' ')))\n",
        "\n",
        "#Padding the sequences for input\n",
        "sent_length= l\n",
        "embedded_docs=pad_sequences(onehot_repr,padding='pre',maxlen=sent_length)\n",
        "print(embedded_docs)"
      ],
      "id": "universal-ordinary"
    },
    {
      "cell_type": "code",
      "execution_count": 16,
      "metadata": {
        "colab": {
          "base_uri": "https://localhost:8080/"
        },
        "id": "agreed-inspiration",
        "outputId": "af8a1fdb-99f2-4954-c123-1de219b33ea2"
      },
      "outputs": [
        {
          "output_type": "stream",
          "name": "stdout",
          "text": [
            "[4 4 0 ... 1 1 1]\n"
          ]
        }
      ],
      "source": [
        "#Encoding the target outputs to integers\n",
        "label_encoder = preprocessing.LabelEncoder()\n",
        "\n",
        "X_final=np.array(embedded_docs) #input to array\n",
        "y = label_encoder.fit_transform(y)\n",
        "y_final=np.array(y)\n",
        "print(y_final)\n",
        "with open('label_encoder.pkl', 'wb') as f:\n",
        "    pickle.dump(label_encoder, f)\n"
      ],
      "id": "agreed-inspiration"
    },
    {
      "cell_type": "code",
      "execution_count": 17,
      "metadata": {
        "colab": {
          "base_uri": "https://localhost:8080/"
        },
        "id": "increasing-apparatus",
        "outputId": "05678fdf-2342-43da-c4e6-2b84767fa264"
      },
      "outputs": [
        {
          "output_type": "execute_result",
          "data": {
            "text/plain": [
              "((21459, 35), (21459,))"
            ]
          },
          "metadata": {},
          "execution_count": 17
        }
      ],
      "source": [
        "X_final.shape,y_final.shape"
      ],
      "id": "increasing-apparatus"
    },
    {
      "cell_type": "code",
      "execution_count": 18,
      "metadata": {
        "id": "inappropriate-young"
      },
      "outputs": [],
      "source": [
        "#Train-Test split\n",
        "X_train, X_test, y_train, y_test = train_test_split(X_final, y_final, \n",
        "                                                    test_size=0.2, random_state=42) \n",
        "#Train-Validation split\n",
        "X_train, X_val, y_train, y_val = train_test_split(X_train, y_train, \n",
        "                                                  test_size=0.1, random_state=21) "
      ],
      "id": "inappropriate-young"
    },
    {
      "cell_type": "markdown",
      "metadata": {
        "id": "vietnamese-confidentiality"
      },
      "source": [
        "# Create and train model"
      ],
      "id": "vietnamese-confidentiality"
    },
    {
      "cell_type": "code",
      "execution_count": 19,
      "metadata": {
        "colab": {
          "base_uri": "https://localhost:8080/"
        },
        "id": "designed-picnic",
        "outputId": "b664cecc-a687-4ca1-b323-a9e714b60dac"
      },
      "outputs": [
        {
          "output_type": "stream",
          "name": "stdout",
          "text": [
            "Model: \"sequential\"\n",
            "_________________________________________________________________\n",
            " Layer (type)                Output Shape              Param #   \n",
            "=================================================================\n",
            " embedding (Embedding)       (None, None, 100)         1000000   \n",
            "                                                                 \n",
            " dropout (Dropout)           (None, None, 100)         0         \n",
            "                                                                 \n",
            " bidirectional (Bidirectiona  (None, 128)              84480     \n",
            " l)                                                              \n",
            "                                                                 \n",
            " dropout_1 (Dropout)         (None, 128)               0         \n",
            "                                                                 \n",
            " dense (Dense)               (None, 64)                8256      \n",
            "                                                                 \n",
            " dropout_2 (Dropout)         (None, 64)                0         \n",
            "                                                                 \n",
            " dense_1 (Dense)             (None, 6)                 390       \n",
            "                                                                 \n",
            "=================================================================\n",
            "Total params: 1,093,126\n",
            "Trainable params: 1,093,126\n",
            "Non-trainable params: 0\n",
            "_________________________________________________________________\n"
          ]
        }
      ],
      "source": [
        "# Creating model\n",
        "model=Sequential()\n",
        "model.add(Embedding(voc_size, embed_size, weights=[embedding_matrix]))\n",
        "model.add(Dropout(0.3))\n",
        "model.add(Bidirectional(LSTM(64)))\n",
        "model.add(Dropout(0.3))\n",
        "model.add(Dense(64, activation='relu',kernel_regularizer=tf.keras.regularizers.l1(0.01))) #L1 regularization\n",
        "model.add(Dropout(0.3))\n",
        "model.add(Dense(6,activation='softmax'))\n",
        "model.compile(loss='sparse_categorical_crossentropy',optimizer= tf.keras.optimizers.Adam(learning_rate=0.001),\n",
        "              metrics=['accuracy'])\n",
        "model.summary()"
      ],
      "id": "designed-picnic"
    },
    {
      "cell_type": "code",
      "execution_count": null,
      "metadata": {
        "colab": {
          "base_uri": "https://localhost:8080/"
        },
        "id": "6JDMFujP99cq",
        "outputId": "1b05156d-993b-405a-80b7-66096136a648"
      },
      "outputs": [
        {
          "name": "stdout",
          "output_type": "stream",
          "text": [
            "Looking in indexes: https://pypi.org/simple, https://us-python.pkg.dev/colab-wheels/public/simple/\n",
            "Requirement already satisfied: pydot in /usr/local/lib/python3.9/dist-packages (1.4.2)\n",
            "Requirement already satisfied: graphviz in /usr/local/lib/python3.9/dist-packages (0.20.1)\n",
            "Requirement already satisfied: pyparsing>=2.1.4 in /usr/local/lib/python3.9/dist-packages (from pydot) (3.0.9)\n"
          ]
        }
      ],
      "source": [
        "!pip install pydot graphviz"
      ],
      "id": "6JDMFujP99cq"
    },
    {
      "cell_type": "code",
      "execution_count": null,
      "metadata": {
        "colab": {
          "base_uri": "https://localhost:8080/"
        },
        "id": "TGtJRqk890fV",
        "outputId": "dae96760-71dc-4807-916e-0fb3c9652acd"
      },
      "outputs": [
        {
          "data": {
            "image/png": "[encoded data removed]",
            "text/plain": [
              "<IPython.core.display.Image object>"
            ]
          },
          "execution_count": 18,
          "metadata": {},
          "output_type": "execute_result"
        }
      ],
      "source": [
        "tf.keras.utils.plot_model(model, show_shapes=False, \n",
        "                          show_layer_names=True, rankdir='TB',\n",
        "                          expand_nested=False, dpi=96)"
      ],
      "id": "TGtJRqk890fV"
    },
    {
      "cell_type": "code",
      "execution_count": 20,
      "metadata": {
        "colab": {
          "base_uri": "https://localhost:8080/"
        },
        "id": "dominican-discount",
        "outputId": "e6b0bd33-e41f-4bc9-d794-51c9ac80f47c"
      },
      "outputs": [
        {
          "output_type": "stream",
          "name": "stdout",
          "text": [
            "Epoch 1/60\n",
            "513/515 [============================>.] - ETA: 0s - loss: 2.6026 - accuracy: 0.3235\n",
            "Epoch 1: val_loss improved from inf to 1.64139, saving model to weights.h5\n",
            "515/515 [==============================] - 16s 23ms/step - loss: 2.5985 - accuracy: 0.3235 - val_loss: 1.6414 - val_accuracy: 0.3151\n",
            "Epoch 2/60\n",
            "514/515 [============================>.] - ETA: 0s - loss: 1.6165 - accuracy: 0.3261\n",
            "Epoch 2: val_loss improved from 1.64139 to 1.62747, saving model to weights.h5\n",
            "515/515 [==============================] - 10s 20ms/step - loss: 1.6166 - accuracy: 0.3260 - val_loss: 1.6275 - val_accuracy: 0.3151\n",
            "Epoch 3/60\n",
            "514/515 [============================>.] - ETA: 0s - loss: 1.6090 - accuracy: 0.3271\n",
            "Epoch 3: val_loss improved from 1.62747 to 1.62433, saving model to weights.h5\n",
            "515/515 [==============================] - 11s 20ms/step - loss: 1.6090 - accuracy: 0.3271 - val_loss: 1.6243 - val_accuracy: 0.3151\n",
            "Epoch 4/60\n",
            "514/515 [============================>.] - ETA: 0s - loss: 1.5373 - accuracy: 0.3418\n",
            "Epoch 4: val_loss improved from 1.62433 to 1.40903, saving model to weights.h5\n",
            "515/515 [==============================] - 10s 20ms/step - loss: 1.5370 - accuracy: 0.3419 - val_loss: 1.4090 - val_accuracy: 0.4007\n",
            "Epoch 5/60\n",
            "514/515 [============================>.] - ETA: 0s - loss: 1.3362 - accuracy: 0.4149\n",
            "Epoch 5: val_loss improved from 1.40903 to 1.29663, saving model to weights.h5\n",
            "515/515 [==============================] - 11s 21ms/step - loss: 1.3366 - accuracy: 0.4151 - val_loss: 1.2966 - val_accuracy: 0.4083\n",
            "Epoch 6/60\n",
            "514/515 [============================>.] - ETA: 0s - loss: 1.2452 - accuracy: 0.4418\n",
            "Epoch 6: val_loss improved from 1.29663 to 1.25005, saving model to weights.h5\n",
            "515/515 [==============================] - 11s 20ms/step - loss: 1.2448 - accuracy: 0.4417 - val_loss: 1.2500 - val_accuracy: 0.4170\n",
            "Epoch 7/60\n",
            "514/515 [============================>.] - ETA: 0s - loss: 1.1968 - accuracy: 0.4514\n",
            "Epoch 7: val_loss improved from 1.25005 to 1.23134, saving model to weights.h5\n",
            "515/515 [==============================] - 11s 21ms/step - loss: 1.1965 - accuracy: 0.4520 - val_loss: 1.2313 - val_accuracy: 0.4217\n",
            "Epoch 8/60\n",
            "514/515 [============================>.] - ETA: 0s - loss: 1.1541 - accuracy: 0.4671\n",
            "Epoch 8: val_loss improved from 1.23134 to 1.17868, saving model to weights.h5\n",
            "515/515 [==============================] - 11s 21ms/step - loss: 1.1540 - accuracy: 0.4668 - val_loss: 1.1787 - val_accuracy: 0.4578\n",
            "Epoch 9/60\n",
            "514/515 [============================>.] - ETA: 0s - loss: 1.0990 - accuracy: 0.5093\n",
            "Epoch 9: val_loss improved from 1.17868 to 1.15310, saving model to weights.h5\n",
            "515/515 [==============================] - 11s 21ms/step - loss: 1.0989 - accuracy: 0.5093 - val_loss: 1.1531 - val_accuracy: 0.4962\n",
            "Epoch 10/60\n",
            "514/515 [============================>.] - ETA: 0s - loss: 0.9719 - accuracy: 0.6418\n",
            "Epoch 10: val_loss improved from 1.15310 to 0.90350, saving model to weights.h5\n",
            "515/515 [==============================] - 11s 21ms/step - loss: 0.9715 - accuracy: 0.6419 - val_loss: 0.9035 - val_accuracy: 0.7082\n",
            "Epoch 11/60\n",
            "514/515 [============================>.] - ETA: 0s - loss: 0.8096 - accuracy: 0.7291\n",
            "Epoch 11: val_loss improved from 0.90350 to 0.80906, saving model to weights.h5\n",
            "515/515 [==============================] - 11s 21ms/step - loss: 0.8102 - accuracy: 0.7288 - val_loss: 0.8091 - val_accuracy: 0.7280\n",
            "Epoch 12/60\n",
            "514/515 [============================>.] - ETA: 0s - loss: 0.7302 - accuracy: 0.7542\n",
            "Epoch 12: val_loss improved from 0.80906 to 0.79145, saving model to weights.h5\n",
            "515/515 [==============================] - 11s 21ms/step - loss: 0.7300 - accuracy: 0.7542 - val_loss: 0.7914 - val_accuracy: 0.7234\n",
            "Epoch 13/60\n",
            "514/515 [============================>.] - ETA: 0s - loss: 0.6859 - accuracy: 0.7657\n",
            "Epoch 13: val_loss improved from 0.79145 to 0.75702, saving model to weights.h5\n",
            "515/515 [==============================] - 11s 21ms/step - loss: 0.6857 - accuracy: 0.7659 - val_loss: 0.7570 - val_accuracy: 0.7338\n",
            "Epoch 14/60\n",
            "514/515 [============================>.] - ETA: 0s - loss: 0.6423 - accuracy: 0.7737\n",
            "Epoch 14: val_loss improved from 0.75702 to 0.74855, saving model to weights.h5\n",
            "515/515 [==============================] - 11s 21ms/step - loss: 0.6421 - accuracy: 0.7737 - val_loss: 0.7486 - val_accuracy: 0.7286\n",
            "Epoch 15/60\n",
            "514/515 [============================>.] - ETA: 0s - loss: 0.6124 - accuracy: 0.7868\n",
            "Epoch 15: val_loss improved from 0.74855 to 0.70505, saving model to weights.h5\n",
            "515/515 [==============================] - 11s 20ms/step - loss: 0.6121 - accuracy: 0.7869 - val_loss: 0.7051 - val_accuracy: 0.7449\n",
            "Epoch 16/60\n",
            "514/515 [============================>.] - ETA: 0s - loss: 0.5803 - accuracy: 0.7991\n",
            "Epoch 16: val_loss did not improve from 0.70505\n",
            "515/515 [==============================] - 11s 21ms/step - loss: 0.5803 - accuracy: 0.7991 - val_loss: 0.7146 - val_accuracy: 0.7676\n",
            "Epoch 17/60\n",
            "514/515 [============================>.] - ETA: 0s - loss: 0.5585 - accuracy: 0.8098\n",
            "Epoch 17: val_loss did not improve from 0.70505\n",
            "515/515 [==============================] - 11s 21ms/step - loss: 0.5584 - accuracy: 0.8100 - val_loss: 0.7058 - val_accuracy: 0.7676\n",
            "Epoch 18/60\n",
            "514/515 [============================>.] - ETA: 0s - loss: 0.5450 - accuracy: 0.8125\n",
            "Epoch 18: val_loss did not improve from 0.70505\n",
            "515/515 [==============================] - 11s 21ms/step - loss: 0.5449 - accuracy: 0.8123 - val_loss: 0.7096 - val_accuracy: 0.7764\n",
            "Epoch 19/60\n",
            "514/515 [============================>.] - ETA: 0s - loss: 0.5163 - accuracy: 0.8174\n",
            "Epoch 19: val_loss did not improve from 0.70505\n",
            "515/515 [==============================] - 11s 21ms/step - loss: 0.5161 - accuracy: 0.8173 - val_loss: 0.7145 - val_accuracy: 0.7676\n",
            "Epoch 20/60\n",
            "514/515 [============================>.] - ETA: 0s - loss: 0.5092 - accuracy: 0.8190\n",
            "Epoch 20: val_loss did not improve from 0.70505\n",
            "515/515 [==============================] - 10s 20ms/step - loss: 0.5091 - accuracy: 0.8192 - val_loss: 0.7120 - val_accuracy: 0.7729\n",
            "Epoch 21/60\n",
            "514/515 [============================>.] - ETA: 0s - loss: 0.4895 - accuracy: 0.8257\n",
            "Epoch 21: val_loss did not improve from 0.70505\n",
            "515/515 [==============================] - 10s 20ms/step - loss: 0.4895 - accuracy: 0.8259 - val_loss: 0.7306 - val_accuracy: 0.7705\n",
            "Epoch 22/60\n",
            "514/515 [============================>.] - ETA: 0s - loss: 0.4838 - accuracy: 0.8298\n",
            "Epoch 22: val_loss did not improve from 0.70505\n",
            "515/515 [==============================] - 10s 20ms/step - loss: 0.4837 - accuracy: 0.8298 - val_loss: 0.7193 - val_accuracy: 0.7769\n",
            "Epoch 23/60\n",
            "514/515 [============================>.] - ETA: 0s - loss: 0.4645 - accuracy: 0.8412\n",
            "Epoch 23: val_loss did not improve from 0.70505\n",
            "515/515 [==============================] - 11s 20ms/step - loss: 0.4642 - accuracy: 0.8414 - val_loss: 0.7536 - val_accuracy: 0.7723\n",
            "Epoch 24/60\n",
            "514/515 [============================>.] - ETA: 0s - loss: 0.4587 - accuracy: 0.8436\n",
            "Epoch 24: val_loss did not improve from 0.70505\n",
            "515/515 [==============================] - 11s 21ms/step - loss: 0.4587 - accuracy: 0.8436 - val_loss: 0.7125 - val_accuracy: 0.7787\n",
            "Epoch 25/60\n",
            "514/515 [============================>.] - ETA: 0s - loss: 0.4522 - accuracy: 0.8571\n",
            "Epoch 25: val_loss did not improve from 0.70505\n",
            "515/515 [==============================] - 11s 21ms/step - loss: 0.4525 - accuracy: 0.8570 - val_loss: 0.7457 - val_accuracy: 0.7851\n",
            "Epoch 26/60\n",
            "514/515 [============================>.] - ETA: 0s - loss: 0.4279 - accuracy: 0.8847\n",
            "Epoch 26: val_loss did not improve from 0.70505\n",
            "515/515 [==============================] - 11s 21ms/step - loss: 0.4282 - accuracy: 0.8847 - val_loss: 0.7208 - val_accuracy: 0.8416\n",
            "Epoch 27/60\n",
            "514/515 [============================>.] - ETA: 0s - loss: 0.3927 - accuracy: 0.9132\n",
            "Epoch 27: val_loss improved from 0.70505 to 0.63901, saving model to weights.h5\n",
            "515/515 [==============================] - 11s 20ms/step - loss: 0.3929 - accuracy: 0.9131 - val_loss: 0.6390 - val_accuracy: 0.8614\n",
            "Epoch 28/60\n",
            "514/515 [============================>.] - ETA: 0s - loss: 0.3417 - accuracy: 0.9365\n",
            "Epoch 28: val_loss did not improve from 0.63901\n",
            "515/515 [==============================] - 10s 20ms/step - loss: 0.3415 - accuracy: 0.9366 - val_loss: 0.6465 - val_accuracy: 0.8672\n",
            "Epoch 29/60\n",
            "514/515 [============================>.] - ETA: 0s - loss: 0.3187 - accuracy: 0.9429\n",
            "Epoch 29: val_loss improved from 0.63901 to 0.63643, saving model to weights.h5\n",
            "515/515 [==============================] - 10s 20ms/step - loss: 0.3187 - accuracy: 0.9428 - val_loss: 0.6364 - val_accuracy: 0.8660\n",
            "Epoch 30/60\n",
            "514/515 [============================>.] - ETA: 0s - loss: 0.3063 - accuracy: 0.9457\n",
            "Epoch 30: val_loss did not improve from 0.63643\n",
            "515/515 [==============================] - 10s 20ms/step - loss: 0.3063 - accuracy: 0.9458 - val_loss: 0.6462 - val_accuracy: 0.8713\n",
            "Epoch 31/60\n",
            "514/515 [============================>.] - ETA: 0s - loss: 0.2971 - accuracy: 0.9482\n",
            "Epoch 31: val_loss improved from 0.63643 to 0.59668, saving model to weights.h5\n",
            "515/515 [==============================] - 10s 20ms/step - loss: 0.2969 - accuracy: 0.9483 - val_loss: 0.5967 - val_accuracy: 0.8701\n",
            "Epoch 32/60\n",
            "514/515 [============================>.] - ETA: 0s - loss: 0.2773 - accuracy: 0.9524\n",
            "Epoch 32: val_loss did not improve from 0.59668\n",
            "515/515 [==============================] - 10s 20ms/step - loss: 0.2772 - accuracy: 0.9524 - val_loss: 0.6671 - val_accuracy: 0.8637\n",
            "Epoch 33/60\n",
            "514/515 [============================>.] - ETA: 0s - loss: 0.2676 - accuracy: 0.9560\n",
            "Epoch 33: val_loss did not improve from 0.59668\n",
            "515/515 [==============================] - 10s 20ms/step - loss: 0.2674 - accuracy: 0.9561 - val_loss: 0.6831 - val_accuracy: 0.8596\n",
            "Epoch 34/60\n",
            "514/515 [============================>.] - ETA: 0s - loss: 0.2564 - accuracy: 0.9578\n",
            "Epoch 34: val_loss did not improve from 0.59668\n",
            "515/515 [==============================] - 10s 20ms/step - loss: 0.2562 - accuracy: 0.9579 - val_loss: 0.6682 - val_accuracy: 0.8626\n",
            "Epoch 35/60\n",
            "514/515 [============================>.] - ETA: 0s - loss: 0.2514 - accuracy: 0.9583\n",
            "Epoch 35: val_loss did not improve from 0.59668\n",
            "515/515 [==============================] - 10s 20ms/step - loss: 0.2515 - accuracy: 0.9582 - val_loss: 0.6797 - val_accuracy: 0.8608\n",
            "Epoch 36/60\n",
            "514/515 [============================>.] - ETA: 0s - loss: 0.2548 - accuracy: 0.9586\n",
            "Epoch 36: val_loss did not improve from 0.59668\n",
            "515/515 [==============================] - 10s 20ms/step - loss: 0.2547 - accuracy: 0.9586 - val_loss: 0.6708 - val_accuracy: 0.8585\n",
            "Epoch 37/60\n",
            "514/515 [============================>.] - ETA: 0s - loss: 0.2453 - accuracy: 0.9615\n",
            "Epoch 37: val_loss did not improve from 0.59668\n",
            "515/515 [==============================] - 10s 20ms/step - loss: 0.2454 - accuracy: 0.9615 - val_loss: 0.6756 - val_accuracy: 0.8660\n",
            "Epoch 38/60\n",
            "514/515 [============================>.] - ETA: 0s - loss: 0.2299 - accuracy: 0.9669\n",
            "Epoch 38: val_loss did not improve from 0.59668\n",
            "515/515 [==============================] - 11s 21ms/step - loss: 0.2300 - accuracy: 0.9669 - val_loss: 0.6893 - val_accuracy: 0.8701\n",
            "Epoch 39/60\n",
            "514/515 [============================>.] - ETA: 0s - loss: 0.2222 - accuracy: 0.9664\n",
            "Epoch 39: val_loss did not improve from 0.59668\n",
            "515/515 [==============================] - 10s 20ms/step - loss: 0.2220 - accuracy: 0.9665 - val_loss: 0.6534 - val_accuracy: 0.8690\n",
            "Epoch 40/60\n",
            "514/515 [============================>.] - ETA: 0s - loss: 0.2199 - accuracy: 0.9653\n",
            "Epoch 40: val_loss did not improve from 0.59668\n",
            "515/515 [==============================] - 10s 20ms/step - loss: 0.2200 - accuracy: 0.9652 - val_loss: 0.7187 - val_accuracy: 0.8631\n",
            "Epoch 41/60\n",
            "514/515 [============================>.] - ETA: 0s - loss: 0.2174 - accuracy: 0.9679\n",
            "Epoch 41: val_loss did not improve from 0.59668\n",
            "515/515 [==============================] - 10s 20ms/step - loss: 0.2175 - accuracy: 0.9679 - val_loss: 0.6980 - val_accuracy: 0.8660\n",
            "Epoch 42/60\n",
            "514/515 [============================>.] - ETA: 0s - loss: 0.2067 - accuracy: 0.9695\n",
            "Epoch 42: val_loss did not improve from 0.59668\n",
            "515/515 [==============================] - 10s 20ms/step - loss: 0.2066 - accuracy: 0.9695 - val_loss: 0.6664 - val_accuracy: 0.8701\n",
            "Epoch 43/60\n",
            "514/515 [============================>.] - ETA: 0s - loss: 0.2117 - accuracy: 0.9685\n",
            "Epoch 43: val_loss did not improve from 0.59668\n",
            "515/515 [==============================] - 10s 20ms/step - loss: 0.2117 - accuracy: 0.9686 - val_loss: 0.6821 - val_accuracy: 0.8678\n",
            "Epoch 44/60\n",
            "514/515 [============================>.] - ETA: 0s - loss: 0.2050 - accuracy: 0.9715\n",
            "Epoch 44: val_loss did not improve from 0.59668\n",
            "515/515 [==============================] - 11s 20ms/step - loss: 0.2049 - accuracy: 0.9716 - val_loss: 0.6963 - val_accuracy: 0.8684\n",
            "Epoch 45/60\n",
            "514/515 [============================>.] - ETA: 0s - loss: 0.1991 - accuracy: 0.9724\n",
            "Epoch 45: val_loss did not improve from 0.59668\n",
            "515/515 [==============================] - 11s 21ms/step - loss: 0.1990 - accuracy: 0.9724 - val_loss: 0.7062 - val_accuracy: 0.8649\n",
            "Epoch 46/60\n",
            "514/515 [============================>.] - ETA: 0s - loss: 0.1909 - accuracy: 0.9747\n",
            "Epoch 46: val_loss did not improve from 0.59668\n",
            "515/515 [==============================] - 11s 21ms/step - loss: 0.1909 - accuracy: 0.9747 - val_loss: 0.7705 - val_accuracy: 0.8655\n",
            "Epoch 47/60\n",
            "514/515 [============================>.] - ETA: 0s - loss: 0.1873 - accuracy: 0.9757\n",
            "Epoch 47: val_loss did not improve from 0.59668\n",
            "515/515 [==============================] - 10s 20ms/step - loss: 0.1875 - accuracy: 0.9757 - val_loss: 0.7847 - val_accuracy: 0.8585\n",
            "Epoch 48/60\n",
            "514/515 [============================>.] - ETA: 0s - loss: 0.1939 - accuracy: 0.9728\n",
            "Epoch 48: val_loss did not improve from 0.59668\n",
            "515/515 [==============================] - 10s 20ms/step - loss: 0.1945 - accuracy: 0.9727 - val_loss: 0.7470 - val_accuracy: 0.8620\n",
            "Epoch 49/60\n",
            "514/515 [============================>.] - ETA: 0s - loss: 0.1835 - accuracy: 0.9761\n",
            "Epoch 49: val_loss did not improve from 0.59668\n",
            "515/515 [==============================] - 10s 20ms/step - loss: 0.1834 - accuracy: 0.9761 - val_loss: 0.7707 - val_accuracy: 0.8649\n",
            "Epoch 50/60\n",
            "514/515 [============================>.] - ETA: 0s - loss: 0.1809 - accuracy: 0.9761\n",
            "Epoch 50: val_loss did not improve from 0.59668\n",
            "515/515 [==============================] - 10s 20ms/step - loss: 0.1808 - accuracy: 0.9761 - val_loss: 0.7561 - val_accuracy: 0.8620\n",
            "Epoch 51/60\n",
            "514/515 [============================>.] - ETA: 0s - loss: 0.1754 - accuracy: 0.9776\n",
            "Epoch 51: val_loss did not improve from 0.59668\n",
            "515/515 [==============================] - 10s 20ms/step - loss: 0.1753 - accuracy: 0.9776 - val_loss: 0.7817 - val_accuracy: 0.8655\n",
            "Epoch 52/60\n",
            "514/515 [============================>.] - ETA: 0s - loss: 0.1791 - accuracy: 0.9770\n",
            "Epoch 52: val_loss did not improve from 0.59668\n",
            "515/515 [==============================] - 10s 20ms/step - loss: 0.1790 - accuracy: 0.9770 - val_loss: 0.7606 - val_accuracy: 0.8631\n",
            "Epoch 53/60\n",
            "514/515 [============================>.] - ETA: 0s - loss: 0.1734 - accuracy: 0.9781\n",
            "Epoch 53: val_loss did not improve from 0.59668\n",
            "515/515 [==============================] - 10s 20ms/step - loss: 0.1734 - accuracy: 0.9781 - val_loss: 0.7466 - val_accuracy: 0.8690\n",
            "Epoch 54/60\n",
            "514/515 [============================>.] - ETA: 0s - loss: 0.1749 - accuracy: 0.9782\n",
            "Epoch 54: val_loss did not improve from 0.59668\n",
            "515/515 [==============================] - 11s 20ms/step - loss: 0.1751 - accuracy: 0.9781 - val_loss: 0.7442 - val_accuracy: 0.8649\n",
            "Epoch 55/60\n",
            "514/515 [============================>.] - ETA: 0s - loss: 0.1730 - accuracy: 0.9779\n",
            "Epoch 55: val_loss did not improve from 0.59668\n",
            "515/515 [==============================] - 11s 20ms/step - loss: 0.1733 - accuracy: 0.9778 - val_loss: 0.7562 - val_accuracy: 0.8672\n",
            "Epoch 56/60\n",
            "514/515 [============================>.] - ETA: 0s - loss: 0.1683 - accuracy: 0.9802\n",
            "Epoch 56: val_loss did not improve from 0.59668\n",
            "515/515 [==============================] - 11s 21ms/step - loss: 0.1684 - accuracy: 0.9802 - val_loss: 0.7399 - val_accuracy: 0.8649\n",
            "Epoch 57/60\n",
            "514/515 [============================>.] - ETA: 0s - loss: 0.1628 - accuracy: 0.9811\n",
            "Epoch 57: val_loss did not improve from 0.59668\n",
            "515/515 [==============================] - 10s 20ms/step - loss: 0.1629 - accuracy: 0.9810 - val_loss: 0.8021 - val_accuracy: 0.8707\n",
            "Epoch 58/60\n",
            "514/515 [============================>.] - ETA: 0s - loss: 0.1616 - accuracy: 0.9816\n",
            "Epoch 58: val_loss did not improve from 0.59668\n",
            "515/515 [==============================] - 10s 20ms/step - loss: 0.1615 - accuracy: 0.9816 - val_loss: 0.8023 - val_accuracy: 0.8672\n",
            "Epoch 59/60\n",
            "514/515 [============================>.] - ETA: 0s - loss: 0.1709 - accuracy: 0.9787\n",
            "Epoch 59: val_loss did not improve from 0.59668\n",
            "515/515 [==============================] - 10s 20ms/step - loss: 0.1709 - accuracy: 0.9786 - val_loss: 0.8013 - val_accuracy: 0.8660\n",
            "Epoch 60/60\n",
            "514/515 [============================>.] - ETA: 0s - loss: 0.1524 - accuracy: 0.9835\n",
            "Epoch 60: val_loss did not improve from 0.59668\n",
            "515/515 [==============================] - 10s 20ms/step - loss: 0.1524 - accuracy: 0.9834 - val_loss: 0.8235 - val_accuracy: 0.8626\n"
          ]
        }
      ],
      "source": [
        "model_save = ModelCheckpoint('weights.h5', save_best_only = True, save_weights_only = True, monitor = 'val_loss', \n",
        "                             mode = 'min', verbose = 1)\n",
        "history = model.fit(X_train,y_train,validation_data=(X_val,y_val),epochs=60,batch_size=30,callbacks = [model_save])"
      ],
      "id": "dominican-discount"
    },
    {
      "cell_type": "markdown",
      "metadata": {
        "id": "subject-error"
      },
      "source": [
        "# Analysis and visualization of output"
      ],
      "id": "subject-error"
    },
    {
      "cell_type": "code",
      "execution_count": 21,
      "metadata": {
        "colab": {
          "base_uri": "https://localhost:8080/",
          "height": 944
        },
        "id": "stunning-pioneer",
        "outputId": "5fcedd8a-2fbc-4fa4-b3f8-8ded708d4c3d"
      },
      "outputs": [
        {
          "output_type": "stream",
          "name": "stdout",
          "text": [
            "dict_keys(['loss', 'accuracy', 'val_loss', 'val_accuracy'])\n"
          ]
        },
        {
          "output_type": "display_data",
          "data": {
            "text/plain": [
              "<Figure size 640x480 with 1 Axes>"
            ],
            "image/png": "[encoded data removed]"
          },
          "metadata": {}
        },
        {
          "output_type": "display_data",
          "data": {
            "text/plain": [
              "<Figure size 640x480 with 1 Axes>"
            ],
            "image/png": "[encoded data removed]"
          },
          "metadata": {}
        }
      ],
      "source": [
        "print(history.history.keys())\n",
        "#  \"Accuracy\"\n",
        "plt.plot(history.history['accuracy'])\n",
        "plt.plot(history.history['val_accuracy'])\n",
        "plt.title('model accuracy')\n",
        "plt.ylabel('accuracy')\n",
        "plt.xlabel('epoch')\n",
        "plt.legend(['train', 'validation'], loc='upper left')\n",
        "plt.show()\n",
        "# \"Loss\"\n",
        "plt.plot(history.history['loss'])\n",
        "plt.plot(history.history['val_loss'])\n",
        "plt.title('model loss')\n",
        "plt.ylabel('loss')\n",
        "plt.xlabel('epoch')\n",
        "plt.legend(['train', 'validation'], loc='upper left')\n",
        "plt.show()"
      ],
      "id": "stunning-pioneer"
    },
    {
      "cell_type": "code",
      "execution_count": 22,
      "metadata": {
        "id": "impossible-terror"
      },
      "outputs": [],
      "source": [
        "#Load the best weights\n",
        "model.load_weights('weights.h5')"
      ],
      "id": "impossible-terror"
    },
    {
      "cell_type": "code",
      "execution_count": 23,
      "metadata": {
        "colab": {
          "base_uri": "https://localhost:8080/"
        },
        "id": "based-principle",
        "outputId": "330c3acb-c8d8-43fc-e93c-42455dbe91ac"
      },
      "outputs": [
        {
          "output_type": "stream",
          "name": "stdout",
          "text": [
            "135/135 [==============================] - 2s 7ms/step\n"
          ]
        }
      ],
      "source": [
        "# get predicted probabilities for each class\n",
        "y_pred_prob = model.predict(X_test)\n",
        "\n",
        "# get the class indices of the highest probability\n",
        "y_pred = np.argmax(y_pred_prob, axis=1)"
      ],
      "id": "based-principle"
    },
    {
      "cell_type": "code",
      "execution_count": 24,
      "metadata": {
        "colab": {
          "base_uri": "https://localhost:8080/"
        },
        "id": "julian-freeware",
        "outputId": "ad75eb58-388d-4a3a-e92e-68fa32180cf7"
      },
      "outputs": [
        {
          "output_type": "stream",
          "name": "stdout",
          "text": [
            "0.8900279589934762\n"
          ]
        }
      ],
      "source": [
        "#Accuracy score\n",
        "print(accuracy_score(y_test,y_pred))"
      ],
      "id": "julian-freeware"
    },
    {
      "cell_type": "code",
      "execution_count": 25,
      "metadata": {
        "colab": {
          "base_uri": "https://localhost:8080/"
        },
        "id": "fatty-blues",
        "outputId": "0c590de8-516e-4b45-bb29-c9b635d4a901"
      },
      "outputs": [
        {
          "output_type": "stream",
          "name": "stdout",
          "text": [
            "              precision    recall  f1-score   support\n",
            "\n",
            "           0    0.91582   0.88169   0.89843       617\n",
            "           1    0.81149   0.85122   0.83088       531\n",
            "           2    0.90355   0.92252   0.91293      1381\n",
            "           3    0.79310   0.72327   0.75658       318\n",
            "           4    0.93318   0.94049   0.93682      1277\n",
            "           5    0.77273   0.70833   0.73913       168\n",
            "\n",
            "    accuracy                        0.89003      4292\n",
            "   macro avg    0.85498   0.83792   0.84580      4292\n",
            "weighted avg    0.88944   0.89003   0.88942      4292\n",
            "\n"
          ]
        }
      ],
      "source": [
        "#Classification report\n",
        "print(classification_report(y_test, y_pred, digits=5))"
      ],
      "id": "fatty-blues"
    },
    {
      "cell_type": "code",
      "execution_count": 26,
      "metadata": {
        "colab": {
          "base_uri": "https://localhost:8080/",
          "height": 465
        },
        "id": "gorgeous-framing",
        "outputId": "224da038-8180-4afe-fd39-83cf9724b409"
      },
      "outputs": [
        {
          "output_type": "stream",
          "name": "stdout",
          "text": [
            "Confusion Matrix\n",
            "Axes(0.125,0.11;0.62x0.77)\n"
          ]
        },
        {
          "output_type": "display_data",
          "data": {
            "text/plain": [
              "<Figure size 640x480 with 2 Axes>"
            ],
            "image/png": "[encoded data removed]"
          },
          "metadata": {}
        }
      ],
      "source": [
        "#Confusion Matrix\n",
        "print('Confusion Matrix')\n",
        "print(sns.heatmap(confusion_matrix(y_test, y_pred),annot=True,fmt=\"d\"))"
      ],
      "id": "gorgeous-framing"
    },
    {
      "cell_type": "markdown",
      "metadata": {
        "id": "criminal-shepherd"
      },
      "source": [
        "# Test on own"
      ],
      "id": "criminal-shepherd"
    },
    {
      "cell_type": "code",
      "execution_count": 30,
      "metadata": {
        "colab": {
          "base_uri": "https://localhost:8080/"
        },
        "id": "electric-collection",
        "outputId": "8bfed861-6cc5-46dc-f73d-dc287791f495"
      },
      "outputs": [
        {
          "output_type": "stream",
          "name": "stdout",
          "text": [
            "{0: 0, 1: 1, 2: 2, 3: 3, 4: 4, 5: 5}\n"
          ]
        }
      ],
      "source": [
        "#Mapping of target classes using label-encoder\n",
        "le_name_mapping = dict(zip(label_encoder.classes_, label_encoder.transform(label_encoder.classes_)))\n",
        "print(le_name_mapping)"
      ],
      "id": "electric-collection"
    },
    {
      "cell_type": "code",
      "execution_count": 48,
      "metadata": {
        "id": "tribal-thriller"
      },
      "outputs": [],
      "source": [
        "#Example\n",
        "def predict_emotion(stri):\n",
        "    review = re.sub('[^a-zA-Z]', ' ', stri)\n",
        "    review = review.lower()\n",
        "    review = review.split()\n",
        "    review = [ps.stem(word) for word in review if not word in stopwords.words('english')]\n",
        "    review = ' '.join(review)\n",
        "    print(review)\n",
        "    onehot_repr = [one_hot(review,voc_size)] \n",
        "    print(onehot_repr)\n",
        "    embed = pad_sequences(onehot_repr,padding='pre',maxlen=sent_length)\n",
        "    print(embed)\n",
        "    predicti = model.predict(embed)\n",
        "    print(predicti)\n",
        "    return label_encoder.classes_[np.argmax(predicti)]"
      ],
      "id": "tribal-thriller"
    },
    {
      "cell_type": "code",
      "execution_count": 49,
      "metadata": {
        "colab": {
          "base_uri": "https://localhost:8080/"
        },
        "id": "stupid-sacrifice",
        "outputId": "22994003-2263-446e-d9e2-f976bc56dcfc"
      },
      "outputs": [
        {
          "output_type": "stream",
          "name": "stdout",
          "text": [
            "happi today\n",
            "[[2492, 5791]]\n",
            "[[   0    0    0    0    0    0    0    0    0    0    0    0    0    0\n",
            "     0    0    0    0    0    0    0    0    0    0    0    0    0    0\n",
            "     0    0    0    0    0 2492 5791]]\n",
            "1/1 [==============================] - 0s 26ms/step\n",
            "[[0.02088541 0.28813764 0.5261798  0.00993633 0.11706724 0.03779352]]\n"
          ]
        },
        {
          "output_type": "execute_result",
          "data": {
            "text/plain": [
              "2"
            ]
          },
          "metadata": {},
          "execution_count": 49
        }
      ],
      "source": [
        "predict_emotion('I am very happy today')"
      ],
      "id": "stupid-sacrifice"
    },
    {
      "cell_type": "code",
      "execution_count": 32,
      "metadata": {
        "colab": {
          "base_uri": "https://localhost:8080/"
        },
        "id": "every-premium",
        "outputId": "25248ecb-0132-4102-e38c-3657cee62b89"
      },
      "outputs": [
        {
          "output_type": "stream",
          "name": "stdout",
          "text": [
            "1/1 [==============================] - 0s 28ms/step\n"
          ]
        },
        {
          "output_type": "execute_result",
          "data": {
            "text/plain": [
              "0"
            ]
          },
          "metadata": {},
          "execution_count": 32
        }
      ],
      "source": [
        "predict_emotion('He is an arrogant and rude person')"
      ],
      "id": "every-premium"
    },
    {
      "cell_type": "code",
      "execution_count": 33,
      "metadata": {
        "colab": {
          "base_uri": "https://localhost:8080/"
        },
        "id": "worth-stanford",
        "outputId": "7c643014-c73d-4e53-ee40-e9442e96f447"
      },
      "outputs": [
        {
          "output_type": "stream",
          "name": "stdout",
          "text": [
            "1/1 [==============================] - 0s 26ms/step\n"
          ]
        },
        {
          "output_type": "execute_result",
          "data": {
            "text/plain": [
              "1"
            ]
          },
          "metadata": {},
          "execution_count": 33
        }
      ],
      "source": [
        "predict_emotion('ALL THAT SWEET KARMA!')"
      ],
      "id": "worth-stanford"
    },
    {
      "cell_type": "code",
      "execution_count": 35,
      "metadata": {
        "colab": {
          "base_uri": "https://localhost:8080/"
        },
        "id": "zO-DMN0aL4dV",
        "outputId": "26cc59eb-91db-4ceb-d552-0a53681484c2"
      },
      "outputs": [
        {
          "output_type": "stream",
          "name": "stdout",
          "text": [
            "1/1 [==============================] - 0s 28ms/step\n"
          ]
        },
        {
          "output_type": "execute_result",
          "data": {
            "text/plain": [
              "2"
            ]
          },
          "metadata": {},
          "execution_count": 35
        }
      ],
      "source": [
        "predict_emotion('Gasoline is a very good form of energy')"
      ],
      "id": "zO-DMN0aL4dV"
    },
    {
      "cell_type": "code",
      "source": [
        "import shutil\n",
        "shutil.make_archive('my_model', 'zip', 'my_model')\n"
      ],
      "metadata": {
        "colab": {
          "base_uri": "https://localhost:8080/",
          "height": 36
        },
        "id": "fN1tTe5SSKUF",
        "outputId": "c92e5455-bba7-4881-f0c0-0d3270098450"
      },
      "id": "fN1tTe5SSKUF",
      "execution_count": 36,
      "outputs": [
        {
          "output_type": "execute_result",
          "data": {
            "text/plain": [
              "'/content/my_model.zip'"
            ],
            "application/vnd.google.colaboratory.intrinsic+json": {
              "type": "string"
            }
          },
          "metadata": {},
          "execution_count": 36
        }
      ]
    },
    {
      "cell_type": "code",
      "execution_count": 29,
      "metadata": {
        "id": "D2RZIUD4JOw8",
        "colab": {
          "base_uri": "https://localhost:8080/"
        },
        "outputId": "cbf687bc-0f7f-4d69-8a96-9916bd15c69a"
      },
      "outputs": [
        {
          "output_type": "stream",
          "name": "stderr",
          "text": [
            "WARNING:absl:Found untraced functions such as _update_step_xla, lstm_cell_1_layer_call_fn, lstm_cell_1_layer_call_and_return_conditional_losses, lstm_cell_2_layer_call_fn, lstm_cell_2_layer_call_and_return_conditional_losses while saving (showing 5 of 5). These functions will not be directly callable after loading.\n"
          ]
        }
      ],
      "source": [
        "model.save('my_model')"
      ],
      "id": "D2RZIUD4JOw8"
    },
    {
      "cell_type": "markdown",
      "metadata": {
        "id": "cNdiS4n-109p"
      },
      "source": [
        "## Load Model\n",
        "This may not be currently working"
      ],
      "id": "cNdiS4n-109p"
    },
    {
      "cell_type": "code",
      "execution_count": null,
      "metadata": {
        "id": "nudIDNye2ECy"
      },
      "outputs": [],
      "source": [
        "# from keras.models import load_model\n"
      ],
      "id": "nudIDNye2ECy"
    },
    {
      "cell_type": "code",
      "execution_count": null,
      "metadata": {
        "id": "Ch4R_CK613TP"
      },
      "outputs": [],
      "source": [
        "#Load the best weights\n",
        "\n",
        "# model2 = load_model('my_model.h5')\n",
        "# model2.load_weights('weights.h5')"
      ],
      "id": "Ch4R_CK613TP"
    },
    {
      "cell_type": "code",
      "execution_count": null,
      "metadata": {
        "id": "MfoxAam52ais"
      },
      "outputs": [],
      "source": [
        "# #Example\n",
        "# def predict_emotion2(review):\n",
        "#     review = [ps.stem(word) for word in review if not word in stopwords.words('english')]\n",
        "#     review = ' '.join(review)\n",
        "#     onehot_repr = [one_hot(review,voc_size)] \n",
        "#     embed = pad_sequences(onehot_repr,padding='pre',maxlen=sent_length)\n",
        "#     predicti = model2.predict(embed)\n",
        "#     return label_encoder.classes_[np.argmax(predicti)]"
      ],
      "id": "MfoxAam52ais"
    },
    {
      "cell_type": "code",
      "execution_count": null,
      "metadata": {
        "colab": {
          "base_uri": "https://localhost:8080/",
          "height": 53
        },
        "id": "0gJcdKP715vC",
        "outputId": "0409d207-5442-48be-f475-0a0d33f0b0a2"
      },
      "outputs": [
        {
          "name": "stdout",
          "output_type": "stream",
          "text": [
            "1/1 [==============================] - 1s 1s/step\n"
          ]
        },
        {
          "data": {
            "application/vnd.google.colaboratory.intrinsic+json": {
              "type": "string"
            },
            "text/plain": [
              "'surprise'"
            ]
          },
          "execution_count": 36,
          "metadata": {},
          "output_type": "execute_result"
        }
      ],
      "source": [
        "# predict_emotion2('You suprised me so much')"
      ],
      "id": "0gJcdKP715vC"
    },
    {
      "cell_type": "code",
      "execution_count": 37,
      "metadata": {
        "id": "yiUDx1YDuMOC"
      },
      "outputs": [],
      "source": [
        "\n",
        "# Load the saved model\n",
        "model2 = tf.keras.models.load_model('my_model')\n",
        "\n",
        "# Use the model to make predictions\n",
        "# predictions = model.predict()\n",
        "model2.load_weights('weights.h5', by_name=True)"
      ],
      "id": "yiUDx1YDuMOC"
    },
    {
      "cell_type": "code",
      "source": [
        "def predict_emotion3(stri):\n",
        "    review = re.sub('[^a-zA-Z]', ' ', stri)\n",
        "    review = review.lower()\n",
        "    review = review.split()\n",
        "    review = [ps.stem(word) for word in review if not word in stopwords.words('english')]\n",
        "    review = ' '.join(review)\n",
        "    onehot_repr = [one_hot(review,10000)] \n",
        "    embed = pad_sequences(onehot_repr,padding='pre',maxlen=1)\n",
        "    predicti = model2.predict(embed)\n",
        "    return label_encoder.classes_[np.argmax(predicti)]"
      ],
      "metadata": {
        "id": "k46LCH4cT0LM"
      },
      "id": "k46LCH4cT0LM",
      "execution_count": 38,
      "outputs": []
    },
    {
      "cell_type": "code",
      "source": [
        "predict_emotion3('I am happy')"
      ],
      "metadata": {
        "colab": {
          "base_uri": "https://localhost:8080/"
        },
        "id": "ZwueoawDT19z",
        "outputId": "fd4f3df2-3552-47da-bf89-0f0f74965b0d"
      },
      "id": "ZwueoawDT19z",
      "execution_count": 39,
      "outputs": [
        {
          "output_type": "stream",
          "name": "stdout",
          "text": [
            "1/1 [==============================] - 1s 859ms/step\n"
          ]
        },
        {
          "output_type": "execute_result",
          "data": {
            "text/plain": [
              "2"
            ]
          },
          "metadata": {},
          "execution_count": 39
        }
      ]
    },
    {
      "cell_type": "markdown",
      "metadata": {
        "id": "59FMRbqiA85-"
      },
      "source": [
        "# Load MySQL Data"
      ],
      "id": "59FMRbqiA85-"
    },
    {
      "cell_type": "code",
      "execution_count": null,
      "metadata": {
        "colab": {
          "base_uri": "https://localhost:8080/"
        },
        "id": "dDlHVk2BA-cF",
        "outputId": "a2d3c446-c454-4006-b392-a2c42550e378"
      },
      "outputs": [
        {
          "name": "stdout",
          "output_type": "stream",
          "text": [
            "Looking in indexes: https://pypi.org/simple, https://us-python.pkg.dev/colab-wheels/public/simple/\n",
            "Requirement already satisfied: mysql-connector-python in /usr/local/lib/python3.9/dist-packages (8.0.33)\n",
            "Requirement already satisfied: protobuf<=3.20.3,>=3.11.0 in /usr/local/lib/python3.9/dist-packages (from mysql-connector-python) (3.20.3)\n"
          ]
        }
      ],
      "source": [
        "# !pip install mysql-connector-python"
      ],
      "id": "dDlHVk2BA-cF"
    },
    {
      "cell_type": "code",
      "execution_count": null,
      "metadata": {
        "id": "ElQJvWBqA-6m"
      },
      "outputs": [],
      "source": [
        "# import mysql.connector"
      ],
      "id": "ElQJvWBqA-6m"
    },
    {
      "cell_type": "code",
      "execution_count": null,
      "metadata": {
        "colab": {
          "background_save": true,
          "base_uri": "https://localhost:8080/"
        },
        "id": "Xz2Sc2yOBAou",
        "outputId": "34434b26-0488-4ed1-89e3-3db453ef5525"
      },
      "outputs": [
        {
          "name": "stderr",
          "output_type": "stream",
          "text": [
            "<ipython-input-8-cadb878b7c6a>:10: UserWarning: pandas only supports SQLAlchemy connectable (engine/connection) or database string URI or sqlite3 DBAPI2 connection. Other DBAPI2 objects are not tested. Please consider using SQLAlchemy.\n",
            "  result_dataFrame = pd.read_sql(query,mydb)\n"
          ]
        }
      ],
      "source": [
        "# mydb = mysql.connector.connect(\n",
        "#   host=\"ls-EXAMPLE\",\n",
        "#   user=\"EXAMPLE\",\n",
        "#   password=\"EXAMPLE\",\n",
        "#   database=\"EXAMPLE\"\n",
        "# )\n",
        "\n",
        "# try:\n",
        "#     query = \"Select body from EXAMPLE;\"\n",
        "#     result_dataFrame = pd.read_sql(query,mydb)\n",
        "#     mydb.close() #close the connection\n",
        "#     print(result_dataFrame.head())\n",
        "# except Exception as e:\n",
        "#     mydb.close()\n",
        "#     print(str(e))"
      ],
      "id": "Xz2Sc2yOBAou"
    },
    {
      "cell_type": "code",
      "source": [
        "# result_dataFrame['labels']=result_dataFrame['body'].apply(predict)"
      ],
      "metadata": {
        "id": "_o2wJHRfcLBV"
      },
      "id": "_o2wJHRfcLBV",
      "execution_count": null,
      "outputs": []
    }
  ],
  "metadata": {
    "accelerator": "TPU",
    "colab": {
      "collapsed_sections": [
        "delayed-validation",
        "vietnamese-confidentiality",
        "subject-error"
      ],
      "machine_shape": "hm",
      "provenance": []
    },
    "gpuClass": "standard",
    "kernelspec": {
      "display_name": "Python 3",
      "language": "python",
      "name": "python3"
    },
    "language_info": {
      "codemirror_mode": {
        "name": "ipython",
        "version": 3
      },
      "file_extension": ".py",
      "mimetype": "text/x-python",
      "name": "python",
      "nbconvert_exporter": "python",
      "pygments_lexer": "ipython3",
      "version": "3.7.10"
    },
    "papermill": {
      "default_parameters": {},
      "duration": 270.006212,
      "end_time": "2021-05-21T07:01:08.314539",
      "environment_variables": {},
      "exception": null,
      "input_path": "__notebook__.ipynb",
      "output_path": "__notebook__.ipynb",
      "parameters": {},
      "start_time": "2021-05-21T06:56:38.308327",
      "version": "2.3.3"
    }
  },
  "nbformat": 4,
  "nbformat_minor": 5
}
